{
 "cells": [
  {
   "cell_type": "markdown",
   "id": "a9f5d673",
   "metadata": {},
   "source": [
    "# List Comprehension\n",
    "* List comprehension Offers shorter syntax when to create a list based on the values Of an exist.ml list\n",
    "\n",
    "* **Example 1:** \n",
    "\n",
    "    * Based on a list Of fruits, you want a list containing only fruits with the letter in the name-Without List comprehension wid to write a for Statement with a conditional test inside:"
   ]
  },
  {
   "cell_type": "code",
   "execution_count": 1,
   "id": "ed9f10ae",
   "metadata": {},
   "outputs": [],
   "source": [
    "student = ['umar','wali','usama','zeshan','nouman','jameel','ibraheen','kiran']\n",
    "\n",
    "newlist = []\n",
    "\n",
    "for i in student:\n",
    "    if \"e\" in i:   #student who have 'e' in there names\n",
    "        newlist.append(i)"
   ]
  },
  {
   "cell_type": "code",
   "execution_count": 2,
   "id": "1169409f",
   "metadata": {},
   "outputs": [
    {
     "name": "stdout",
     "output_type": "stream",
     "text": [
      "['zeshan', 'jameel', 'ibraheen']\n"
     ]
    }
   ],
   "source": [
    "print(newlist)"
   ]
  },
  {
   "cell_type": "markdown",
   "id": "bc6a8de6",
   "metadata": {},
   "source": [
    "`List Comprehension`"
   ]
  },
  {
   "cell_type": "code",
   "execution_count": 15,
   "id": "ce7ff914",
   "metadata": {},
   "outputs": [],
   "source": [
    "# an other optimised approch, list comprehension\n",
    "students = ['umar','wali','usama','zeshan','nouman','jameel','ibraheen','kiran']\n",
    "opplist = [x for x in students if \"e\" in x]"
   ]
  },
  {
   "cell_type": "code",
   "execution_count": 5,
   "id": "560858b0",
   "metadata": {},
   "outputs": [
    {
     "name": "stdout",
     "output_type": "stream",
     "text": [
      "['zeshan', 'jameel', 'ibraheen']\n"
     ]
    }
   ],
   "source": [
    "print(opplist)"
   ]
  },
  {
   "cell_type": "markdown",
   "id": "bcaa3af0",
   "metadata": {},
   "source": [
    "#\n",
    "* `Example:` Iterating through a string for loop  "
   ]
  },
  {
   "cell_type": "code",
   "execution_count": 8,
   "id": "3e732036",
   "metadata": {},
   "outputs": [],
   "source": [
    "letters = []\n",
    "\n",
    "for l in 'wali':\n",
    "    letters.append(l)"
   ]
  },
  {
   "cell_type": "code",
   "execution_count": 9,
   "id": "e7a961c0",
   "metadata": {},
   "outputs": [
    {
     "name": "stdout",
     "output_type": "stream",
     "text": [
      "['w', 'a', 'l', 'i']\n"
     ]
    }
   ],
   "source": [
    "print(letters)"
   ]
  },
  {
   "cell_type": "markdown",
   "id": "f126750b",
   "metadata": {},
   "source": [
    "`List comprehension`"
   ]
  },
  {
   "cell_type": "code",
   "execution_count": 12,
   "id": "2b4ca455",
   "metadata": {},
   "outputs": [
    {
     "name": "stdout",
     "output_type": "stream",
     "text": [
      "['w', 'a', 'l', 'i']\n"
     ]
    }
   ],
   "source": [
    "h_letter = [l for l in 'wali']\n",
    "print(h_letter)"
   ]
  },
  {
   "cell_type": "markdown",
   "id": "89b34066",
   "metadata": {},
   "source": [
    "`Example 4 List Comprehension`"
   ]
  },
  {
   "cell_type": "code",
   "execution_count": 14,
   "id": "17212037",
   "metadata": {},
   "outputs": [
    {
     "name": "stdout",
     "output_type": "stream",
     "text": [
      "[0, 2, 4, 6, 8, 10, 12, 14, 16, 18]\n"
     ]
    }
   ],
   "source": [
    "number = [x for x in range(20) if x % 2 == 0]\n",
    "print(number)"
   ]
  },
  {
   "cell_type": "markdown",
   "id": "e7641bbc",
   "metadata": {},
   "source": [
    "`Example 5: Nested if with List Comprehension`"
   ]
  },
  {
   "cell_type": "code",
   "execution_count": 21,
   "id": "53c6af41",
   "metadata": {},
   "outputs": [
    {
     "name": "stdout",
     "output_type": "stream",
     "text": [
      "[0, 45]\n"
     ]
    }
   ],
   "source": [
    "#This will check the both, working like and operation\n",
    "num = [y for y in range(50) if y % 9 == 0 if y % 5 ==0]\n",
    "print(num)"
   ]
  },
  {
   "cell_type": "markdown",
   "id": "50acfc5f",
   "metadata": {},
   "source": [
    "`Example 6: if------else with List comprehension` "
   ]
  },
  {
   "cell_type": "code",
   "execution_count": 22,
   "id": "7b9d4887",
   "metadata": {},
   "outputs": [
    {
     "name": "stdout",
     "output_type": "stream",
     "text": [
      "['Even', 'Odd', 'Even', 'Odd', 'Even', 'Odd', 'Even', 'Odd', 'Even', 'Odd']\n"
     ]
    }
   ],
   "source": [
    "obj = [\"Even\" if i % 2 == 0 else \"Odd\" for i in range(10)]\n",
    "print(obj)"
   ]
  },
  {
   "cell_type": "markdown",
   "id": "aa87c826",
   "metadata": {},
   "source": [
    "# Using Set and Dictionary ConvehenSiOns\n",
    "* While the list `comprehension` in Python is a cornmon tool, you can also create `set` and `dictionary` compression.\n",
    "* A `set comprehension` is almost exactly same as a list compreherOonin python, The difference is that set comprehensions make sure the output contains no duplicates.\n",
    "* You can create a `set comprprehension` by using `Curly braces` instead Of brackets:"
   ]
  },
  {
   "cell_type": "code",
   "execution_count": 23,
   "id": "02b71263",
   "metadata": {},
   "outputs": [
    {
     "name": "stdout",
     "output_type": "stream",
     "text": [
      "{'i', 'o', 'e', 'u', 'a'}\n"
     ]
    }
   ],
   "source": [
    "#using set collecting the unique vowels \n",
    "text = \"Masters in NLP with 3+ Years of Experience, and Expert in Computer Vision, Data Science, Parallel Computing, and Recommendation Systems.\"\n",
    "\n",
    "unique_vowels = {x for x in text if x in 'aeiou'}\n",
    "\n",
    "print(unique_vowels)"
   ]
  },
  {
   "cell_type": "markdown",
   "id": "d8f154c0",
   "metadata": {},
   "source": [
    "# Key Points to Remember\n",
    "* List comprehension is an elegant way to define and create lists based on existing lists\n",
    "* List comprehension is generally more compact and faster than normal functions and loop for creating lists.\n",
    "* However, we should avoid writing very long list comprehensions in one line to ensure that it is user-friendly.\n",
    "* Remember, every list comprehension can be rewritten in a for loop, but every for loop can't be rewritten in the form of list comprehensions.\n"
   ]
  }
 ],
 "metadata": {
  "kernelspec": {
   "display_name": "Python 3",
   "language": "python",
   "name": "python3"
  },
  "language_info": {
   "codemirror_mode": {
    "name": "ipython",
    "version": 3
   },
   "file_extension": ".py",
   "mimetype": "text/x-python",
   "name": "python",
   "nbconvert_exporter": "python",
   "pygments_lexer": "ipython3",
   "version": "3.13.2"
  }
 },
 "nbformat": 4,
 "nbformat_minor": 5
}
