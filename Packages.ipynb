{
 "cells": [
  {
   "cell_type": "markdown",
   "id": "ec2e5f35",
   "metadata": {},
   "source": [
    "### Python Packages\n",
    "* Suppose you have developed a `very large` application that includes\n",
    "many modules\n",
    "* As the number of modules grows, it becomes difficult to keep track of\n",
    "them all if they are dumped into one location. This is particularly so if they\n",
    "have similar names or functionality.\n",
    "* You might wish for a means of groupng and organizing them.\n",
    "* `Packages` allow for a `hierarchical structuring` Of the module\n",
    "namespace using dot notation.\n",
    "* Consider the following arrangement:"
   ]
  },
  {
   "cell_type": "markdown",
   "id": "274341c8",
   "metadata": {},
   "source": [
    "#### let say we have a package with the modules\n",
    "* Pkg\n",
    "    * module1.py\n",
    "    * module2.py\n",
    "    * modulen.py"
   ]
  },
  {
   "cell_type": "code",
   "execution_count": 2,
   "id": "a7ca56e7",
   "metadata": {},
   "outputs": [],
   "source": [
    "# module1.py\n",
    "def mod1():\n",
    "    print(\"This is the modules 1\")\n",
    "\n",
    "class module1:\n",
    "    pass \n",
    "\n",
    "# save this in the pkg dir under the local folder"
   ]
  },
  {
   "cell_type": "code",
   "execution_count": 3,
   "id": "59bbb07f",
   "metadata": {},
   "outputs": [],
   "source": [
    "# module2.py\n",
    "def mod2():\n",
    "    print(\"This is the modules 2\")\n",
    "\n",
    "class module2:\n",
    "    pass \n",
    "\n",
    "# save this in the pkg dir under the local folder"
   ]
  },
  {
   "cell_type": "code",
   "execution_count": 4,
   "id": "16d03445",
   "metadata": {},
   "outputs": [],
   "source": [
    "# module3.py\n",
    "def mod3():\n",
    "    print(\"This is the modules 1\")\n",
    "\n",
    "class module3:\n",
    "    pass \n",
    "\n",
    "# save this in the pkg dir under the local folder"
   ]
  },
  {
   "cell_type": "markdown",
   "id": "d20effb2",
   "metadata": {},
   "source": [
    "* Given this structure, if the pkg directory resides in a location where it can\n",
    "be found (in one of the directones contained in sys. path ),\n",
    "    * we can refer to the two modules With dot notation (pkg.module1, pkg.module2) and\n",
    "    * import them With the syntax we are already familiar With"
   ]
  },
  {
   "cell_type": "markdown",
   "id": "03cc1787",
   "metadata": {},
   "source": [
    "import "
   ]
  },
  {
   "cell_type": "code",
   "execution_count": 1,
   "id": "72308175",
   "metadata": {},
   "outputs": [],
   "source": [
    "import pkg.module1"
   ]
  },
  {
   "cell_type": "code",
   "execution_count": 3,
   "id": "5a3e269b",
   "metadata": {},
   "outputs": [
    {
     "name": "stdout",
     "output_type": "stream",
     "text": [
      "This is the modules 1\n"
     ]
    }
   ],
   "source": [
    "pkg.module1.foo()"
   ]
  },
  {
   "cell_type": "code",
   "execution_count": 4,
   "id": "53add374",
   "metadata": {},
   "outputs": [
    {
     "name": "stdout",
     "output_type": "stream",
     "text": [
      "This is the modules 2\n"
     ]
    }
   ],
   "source": [
    "import pkg.module2\n",
    "\n",
    "pkg.module2.wali()"
   ]
  },
  {
   "cell_type": "code",
   "execution_count": 8,
   "id": "48ce5796",
   "metadata": {},
   "outputs": [
    {
     "name": "stdout",
     "output_type": "stream",
     "text": [
      "This is the modules 1\n"
     ]
    }
   ],
   "source": [
    "import pkg.module3\n",
    "pkg.module3.umar()"
   ]
  },
  {
   "cell_type": "code",
   "execution_count": null,
   "id": "92591c79",
   "metadata": {},
   "outputs": [],
   "source": [
    "# we can import all the modules togather. \n",
    "\n",
    "import pkg.module1, pkg.module2, pkg.module3"
   ]
  }
 ],
 "metadata": {
  "kernelspec": {
   "display_name": "Python 3",
   "language": "python",
   "name": "python3"
  },
  "language_info": {
   "codemirror_mode": {
    "name": "ipython",
    "version": 3
   },
   "file_extension": ".py",
   "mimetype": "text/x-python",
   "name": "python",
   "nbconvert_exporter": "python",
   "pygments_lexer": "ipython3",
   "version": "3.13.2"
  }
 },
 "nbformat": 4,
 "nbformat_minor": 5
}
