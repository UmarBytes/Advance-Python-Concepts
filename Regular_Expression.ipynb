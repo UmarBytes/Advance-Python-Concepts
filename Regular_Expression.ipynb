{
 "cells": [
  {
   "cell_type": "markdown",
   "id": "1c08bbaf",
   "metadata": {},
   "source": [
    "* A Regular Expression (RegEx) is a sequence of characters that defines a search pattern . For example,\n",
    "* `AP.....N$`\n",
    "\n",
    "- The above code defines a `RegEx pattern`.\n",
    "- The pattern is: any 7 letter string starting with P and ending with N\n",
    "- A pattern defined using `RegEx` can be used to match against a string.\n",
    "\n",
    "| Expression | String | Search Strig Matched? |\n",
    "|----------|---------- |------ |\n",
    "|          | abs | No Matched\n",
    "|          | alias |  Matched\n",
    "| ^a.....s$| abyss | No Matched\n",
    "|          | Alias | Matched\n",
    "|          | An abacus | No Matched"
   ]
  },
  {
   "cell_type": "code",
   "execution_count": 3,
   "id": "073b8cdc",
   "metadata": {},
   "outputs": [],
   "source": [
    "import re"
   ]
  },
  {
   "cell_type": "code",
   "execution_count": 5,
   "id": "ed19852d",
   "metadata": {},
   "outputs": [
    {
     "name": "stdout",
     "output_type": "stream",
     "text": [
      "Matched\n"
     ]
    }
   ],
   "source": [
    "pattern = '^f....q$'\n",
    "test_sting = 'farooq'\n",
    "\n",
    "result = re.match(pattern, test_sting)\n",
    "\n",
    "if result:\n",
    "    print(\"Matched\")\n",
    "else: \n",
    "    print(\"No Matched\")"
   ]
  },
  {
   "cell_type": "markdown",
   "id": "9d0c9506",
   "metadata": {},
   "source": [
    "### Specify Pattern Using RegEx\n",
    "* To specify regular expressions, `metacharacters` are used.\n",
    "* In the above example, ^ and $ are metacharacters."
   ]
  },
  {
   "cell_type": "markdown",
   "id": "8f150836",
   "metadata": {},
   "source": [
    "### MetaCharacters\n",
    "* `Metacharacters` are characters that are interpreted in a special way by a `RegEx engine`.\n",
    "* Here's a list of metacharacters:\n",
    "\n",
    "           [] . ^ $ * + ? {} () \\|"
   ]
  },
  {
   "cell_type": "markdown",
   "id": "2c6672d4",
   "metadata": {},
   "source": [
    "### [ ] - Square brackets\n",
    "Square brackets specifies a set of characters you wish to match"
   ]
  },
  {
   "cell_type": "markdown",
   "id": "7a45eafe",
   "metadata": {},
   "source": [
    "`usign re.match`\n",
    " * it will only find matches if they occur at the start of the string being searched.\n",
    " * Otherwise it returns None."
   ]
  },
  {
   "cell_type": "code",
   "execution_count": null,
   "id": "af6a1c01",
   "metadata": {},
   "outputs": [
    {
     "name": "stdout",
     "output_type": "stream",
     "text": [
      "<re.Match object; span=(0, 1), match='E'>\n"
     ]
    }
   ],
   "source": [
    "input_str = \"Experience, and expert in Computer Vision, Data Science, Parallel Computing, and Recommendation Systems\"\n",
    "\n",
    "result = re.match(r\"[Exp]\", input_str)\n",
    "\n",
    "print(result)"
   ]
  },
  {
   "cell_type": "markdown",
   "id": "7400ab87",
   "metadata": {},
   "source": [
    "`Using re.search (pat, str)`"
   ]
  },
  {
   "cell_type": "code",
   "execution_count": 9,
   "id": "256d6776",
   "metadata": {},
   "outputs": [
    {
     "name": "stdout",
     "output_type": "stream",
     "text": [
      "<re.Match object; span=(2, 3), match='x'>\n"
     ]
    }
   ],
   "source": [
    "input_str = \" Experience, and expert in Computer Vision, Data Science, Parallel Computing, and Recommendation Systems\"\n",
    "result = re.search(r\"[exp]\", input_str)\n",
    "print(result)"
   ]
  },
  {
   "cell_type": "markdown",
   "id": "404d75be",
   "metadata": {},
   "source": [
    "`Using findall`"
   ]
  },
  {
   "cell_type": "code",
   "execution_count": 12,
   "id": "c9383a24",
   "metadata": {},
   "outputs": [
    {
     "name": "stdout",
     "output_type": "stream",
     "text": [
      "['x', 'p', 'e', 'e', 'e', 'e']\n"
     ]
    }
   ],
   "source": [
    "input_str = \" Experience in Systems\"\n",
    "result = re.findall(r\"[exp]\", input_str)\n",
    "print(result)"
   ]
  },
  {
   "cell_type": "markdown",
   "id": "c0c53bd9",
   "metadata": {},
   "source": [
    "`Period .`\n",
    "- A period matches any single character (except newline '\\rn.)"
   ]
  },
  {
   "cell_type": "code",
   "execution_count": 14,
   "id": "fc2e7f5c",
   "metadata": {},
   "outputs": [
    {
     "data": {
      "text/plain": [
       "<re.Match object; span=(0, 2), match='ac'>"
      ]
     },
     "execution_count": 14,
     "metadata": {},
     "output_type": "execute_result"
    }
   ],
   "source": [
    "re.search(r'..','acde')"
   ]
  },
  {
   "cell_type": "code",
   "execution_count": 15,
   "id": "9358ca12",
   "metadata": {},
   "outputs": [
    {
     "data": {
      "text/plain": [
       "['ac', 'de']"
      ]
     },
     "execution_count": 15,
     "metadata": {},
     "output_type": "execute_result"
    }
   ],
   "source": [
    "re.findall(r'..','acde')"
   ]
  },
  {
   "cell_type": "code",
   "execution_count": 16,
   "id": "6341b150",
   "metadata": {},
   "outputs": [
    {
     "data": {
      "text/plain": [
       "['ac', 'de', 'fg', 'ht']"
      ]
     },
     "execution_count": 16,
     "metadata": {},
     "output_type": "execute_result"
    }
   ],
   "source": [
    "re.findall(r'..','acdefght')"
   ]
  },
  {
   "cell_type": "markdown",
   "id": "7117b09a",
   "metadata": {},
   "source": [
    "`Caret ^`\n",
    "- The caret symbol `^` is used to check if a string starts with a certain character"
   ]
  },
  {
   "cell_type": "code",
   "execution_count": 20,
   "id": "d62b2450",
   "metadata": {},
   "outputs": [
    {
     "name": "stdout",
     "output_type": "stream",
     "text": [
      "<re.Match object; span=(0, 1), match='a'>\n",
      "<re.Match object; span=(0, 1), match='a'>\n",
      "None\n",
      "<re.Match object; span=(0, 1), match='a'>\n"
     ]
    }
   ],
   "source": [
    "print(re.search(r'^a','a'))\n",
    "print(re.search(r'^a','abc'))\n",
    "print(re.search(r'^a','bac'))\n",
    "print(re.search(r'^a','acb'))"
   ]
  },
  {
   "cell_type": "markdown",
   "id": "4a8d286a",
   "metadata": {},
   "source": [
    "`Dollar Symbol $` \n",
    "- The dollar symbol S is used to check if a string ends with a certain character."
   ]
  },
  {
   "cell_type": "code",
   "execution_count": 23,
   "id": "116c0406",
   "metadata": {},
   "outputs": [
    {
     "name": "stdout",
     "output_type": "stream",
     "text": [
      "<re.Match object; span=(0, 1), match='a'>\n",
      "None\n"
     ]
    }
   ],
   "source": [
    "print(re.search(r'a$','a'))\n",
    "print(re.search(r'a$','cab'))"
   ]
  },
  {
   "cell_type": "markdown",
   "id": "36759044",
   "metadata": {},
   "source": [
    "`Star` *\n",
    "- The star symbol `*` matches zero or more occurrences of the pattern left to it."
   ]
  },
  {
   "cell_type": "code",
   "execution_count": 24,
   "id": "5f7d9163",
   "metadata": {},
   "outputs": [
    {
     "name": "stdout",
     "output_type": "stream",
     "text": [
      "<re.Match object; span=(0, 2), match='mn'>\n"
     ]
    }
   ],
   "source": [
    "print(re.search(r'ma*n', 'mn'))"
   ]
  },
  {
   "cell_type": "markdown",
   "id": "f7778c68",
   "metadata": {},
   "source": [
    "`Plus` +\n",
    "- The plus symbol `+` matches one or more occurrences of the pattern left to it.\n",
    "\n",
    "same for all..."
   ]
  }
 ],
 "metadata": {
  "kernelspec": {
   "display_name": "Python 3",
   "language": "python",
   "name": "python3"
  },
  "language_info": {
   "codemirror_mode": {
    "name": "ipython",
    "version": 3
   },
   "file_extension": ".py",
   "mimetype": "text/x-python",
   "name": "python",
   "nbconvert_exporter": "python",
   "pygments_lexer": "ipython3",
   "version": "3.13.2"
  }
 },
 "nbformat": 4,
 "nbformat_minor": 5
}
