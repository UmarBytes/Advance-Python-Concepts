{
 "cells": [
  {
   "cell_type": "markdown",
   "id": "3547a328",
   "metadata": {},
   "source": [
    "## Topics we will cover in this `advanced Python` course:\n",
    "* Iterator\n",
    "* Modules\n",
    "* Packages\n",
    "* Generators\n",
    "* List Comprehensions\n",
    "* Regular Expressions\n",
    "* Serialization\n",
    "* Partial Functions\n",
    "* Closures\n",
    "* Decorators\n",
    "* Map, Filter, and Reduce Functions"
   ]
  }
 ],
 "metadata": {
  "language_info": {
   "name": "python"
  }
 },
 "nbformat": 4,
 "nbformat_minor": 5
}
