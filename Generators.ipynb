{
 "cells": [
  {
   "cell_type": "markdown",
   "id": "28dbe28e",
   "metadata": {},
   "source": [
    "# Python - Generator\n",
    "* Python provides a kenerator to create your own `iterator` function.\n",
    "* In a `generator` function, a yield statement is used `rather` than a `return` statement.\n",
    "The following is a simple generator function."
   ]
  },
  {
   "cell_type": "code",
   "execution_count": 2,
   "id": "d3288612",
   "metadata": {},
   "outputs": [],
   "source": [
    "def mygenerator():\n",
    "    print(\"First Item\")\n",
    "    yield 10\n",
    "\n",
    "    print('Second item')\n",
    "    yield 20\n",
    "\n",
    "\n",
    "    print('Third item')\n",
    "    yield 30"
   ]
  },
  {
   "cell_type": "markdown",
   "id": "f4fe6c01",
   "metadata": {},
   "source": [
    "`myGenerator()` is a `generator` function.\n",
    "\n",
    "It uses `yield` instead of `return` keyword. So, this will return the\n",
    "value against the yield keyword each time it is called."
   ]
  },
  {
   "cell_type": "code",
   "execution_count": 5,
   "id": "71fad60c",
   "metadata": {},
   "outputs": [],
   "source": [
    "gen = mygenerator()"
   ]
  },
  {
   "cell_type": "code",
   "execution_count": 6,
   "id": "5892cb36",
   "metadata": {},
   "outputs": [
    {
     "name": "stdout",
     "output_type": "stream",
     "text": [
      "First Item\n"
     ]
    },
    {
     "data": {
      "text/plain": [
       "10"
      ]
     },
     "execution_count": 6,
     "metadata": {},
     "output_type": "execute_result"
    }
   ],
   "source": [
    "next(gen)"
   ]
  },
  {
   "cell_type": "code",
   "execution_count": 7,
   "id": "71088505",
   "metadata": {},
   "outputs": [
    {
     "name": "stdout",
     "output_type": "stream",
     "text": [
      "Second item\n"
     ]
    },
    {
     "data": {
      "text/plain": [
       "20"
      ]
     },
     "execution_count": 7,
     "metadata": {},
     "output_type": "execute_result"
    }
   ],
   "source": [
    "next(gen)"
   ]
  },
  {
   "cell_type": "code",
   "execution_count": 8,
   "id": "3f736ea1",
   "metadata": {},
   "outputs": [
    {
     "name": "stdout",
     "output_type": "stream",
     "text": [
      "Third item\n"
     ]
    },
    {
     "data": {
      "text/plain": [
       "30"
      ]
     },
     "execution_count": 8,
     "metadata": {},
     "output_type": "execute_result"
    }
   ],
   "source": [
    "next(gen)"
   ]
  },
  {
   "cell_type": "code",
   "execution_count": 9,
   "id": "5d09be7b",
   "metadata": {},
   "outputs": [
    {
     "ename": "StopIteration",
     "evalue": "",
     "output_type": "error",
     "traceback": [
      "\u001b[1;31m---------------------------------------------------------------------------\u001b[0m",
      "\u001b[1;31mStopIteration\u001b[0m                             Traceback (most recent call last)",
      "Cell \u001b[1;32mIn[9], line 1\u001b[0m\n\u001b[1;32m----> 1\u001b[0m \u001b[38;5;28;43mnext\u001b[39;49m\u001b[43m(\u001b[49m\u001b[43mgen\u001b[49m\u001b[43m)\u001b[49m\n",
      "\u001b[1;31mStopIteration\u001b[0m: "
     ]
    }
   ],
   "source": [
    "next(gen)"
   ]
  },
  {
   "cell_type": "code",
   "execution_count": 1,
   "id": "17e9af0a",
   "metadata": {},
   "outputs": [],
   "source": [
    "# what if we use the `return` after the second.\n",
    "\n",
    "def newGenerator():\n",
    "    yield 'This is the first yield'\n",
    "\n",
    "    yield 'This is the second yield.'\n",
    "    return    #now we can not move next after return\n",
    "\n",
    "    yield 'This is the second yield.'"
   ]
  },
  {
   "cell_type": "code",
   "execution_count": 2,
   "id": "ed98bc7d",
   "metadata": {},
   "outputs": [],
   "source": [
    "newgen = newGenerator()"
   ]
  },
  {
   "cell_type": "code",
   "execution_count": 3,
   "id": "aba88fbb",
   "metadata": {},
   "outputs": [
    {
     "data": {
      "text/plain": [
       "'This is the first yield'"
      ]
     },
     "execution_count": 3,
     "metadata": {},
     "output_type": "execute_result"
    }
   ],
   "source": [
    "next(newgen)"
   ]
  },
  {
   "cell_type": "code",
   "execution_count": 4,
   "id": "f82318cf",
   "metadata": {},
   "outputs": [
    {
     "data": {
      "text/plain": [
       "'This is the second yield.'"
      ]
     },
     "execution_count": 4,
     "metadata": {},
     "output_type": "execute_result"
    }
   ],
   "source": [
    "next(newgen)"
   ]
  },
  {
   "cell_type": "code",
   "execution_count": 5,
   "id": "99a3a994",
   "metadata": {},
   "outputs": [
    {
     "ename": "StopIteration",
     "evalue": "",
     "output_type": "error",
     "traceback": [
      "\u001b[1;31m---------------------------------------------------------------------------\u001b[0m",
      "\u001b[1;31mStopIteration\u001b[0m                             Traceback (most recent call last)",
      "Cell \u001b[1;32mIn[5], line 1\u001b[0m\n\u001b[1;32m----> 1\u001b[0m \u001b[38;5;28;43mnext\u001b[39;49m\u001b[43m(\u001b[49m\u001b[43mnewgen\u001b[49m\u001b[43m)\u001b[49m\n",
      "\u001b[1;31mStopIteration\u001b[0m: "
     ]
    }
   ],
   "source": [
    "next(newgen)"
   ]
  },
  {
   "cell_type": "code",
   "execution_count": 1,
   "id": "ac8af1dc",
   "metadata": {},
   "outputs": [],
   "source": [
    "def getSequenceUoTo(x):\n",
    "    for i in range(x):\n",
    "        yield i"
   ]
  },
  {
   "cell_type": "code",
   "execution_count": 2,
   "id": "7e4b0af4",
   "metadata": {},
   "outputs": [],
   "source": [
    "# this will generate 50 numbers from 0 to 49\n",
    "seq = getSequenceUoTo(50)"
   ]
  },
  {
   "cell_type": "code",
   "execution_count": 17,
   "id": "cded08bf",
   "metadata": {},
   "outputs": [
    {
     "data": {
      "text/plain": [
       "14"
      ]
     },
     "execution_count": 17,
     "metadata": {},
     "output_type": "execute_result"
    }
   ],
   "source": [
    "next(seq)"
   ]
  },
  {
   "cell_type": "code",
   "execution_count": 1,
   "id": "98d697d6",
   "metadata": {},
   "outputs": [],
   "source": [
    "# fibonacci number series\n",
    "\n",
    "def fibonacci(max):\n",
    "    a,b = 0, 1\n",
    "\n",
    "    while a < max:\n",
    "        yield a\n",
    "        a , b = b, a+b "
   ]
  },
  {
   "cell_type": "code",
   "execution_count": 2,
   "id": "04163491",
   "metadata": {},
   "outputs": [],
   "source": [
    "fib = fibonacci(10)"
   ]
  },
  {
   "cell_type": "code",
   "execution_count": 8,
   "id": "200f5aa9",
   "metadata": {},
   "outputs": [
    {
     "data": {
      "text/plain": [
       "5"
      ]
     },
     "execution_count": 8,
     "metadata": {},
     "output_type": "execute_result"
    }
   ],
   "source": [
    "next(fib)"
   ]
  }
 ],
 "metadata": {
  "kernelspec": {
   "display_name": "Python 3",
   "language": "python",
   "name": "python3"
  },
  "language_info": {
   "codemirror_mode": {
    "name": "ipython",
    "version": 3
   },
   "file_extension": ".py",
   "mimetype": "text/x-python",
   "name": "python",
   "nbconvert_exporter": "python",
   "pygments_lexer": "ipython3",
   "version": "3.13.2"
  }
 },
 "nbformat": 4,
 "nbformat_minor": 5
}
