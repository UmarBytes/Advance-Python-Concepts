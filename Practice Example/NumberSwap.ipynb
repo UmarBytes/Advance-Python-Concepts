{
 "cells": [
  {
   "cell_type": "markdown",
   "id": "ca785cb6",
   "metadata": {},
   "source": [
    "# swaping two variables without using the third variablr\n",
    "\n",
    "`Interview asked question`"
   ]
  },
  {
   "cell_type": "markdown",
   "id": "17fd0881",
   "metadata": {},
   "source": [
    "## Approch 01: Addition & Subtraction approch\n",
    "This approach swaps two numbers using addition and subtraction without a third variable by manipulating their values: \n",
    "`a = a - b,` \n",
    "`b = a + b,` \n",
    "`and a = b - a.`"
   ]
  },
  {
   "cell_type": "code",
   "execution_count": 5,
   "id": "46a5f52b",
   "metadata": {},
   "outputs": [
    {
     "name": "stdout",
     "output_type": "stream",
     "text": [
      "After swapig a:  10\n",
      "After swaping b:  5\n"
     ]
    }
   ],
   "source": [
    "a = 5\n",
    "b = 10\n",
    "\n",
    "a = a - b  # 5 - 10 = -5\n",
    "b = a + b  # -5 + 10 = 5\n",
    "a = b - a  # 5 - (-5) = 10\n",
    "\n",
    "print(\"After swapig a: \",a)\n",
    "print(\"After swaping b: \",b)\n"
   ]
  },
  {
   "cell_type": "markdown",
   "id": "12f740d6",
   "metadata": {},
   "source": [
    "## Bitwise XOR\n",
    "\n",
    "when, Addition and subtraction is not allowed we are using the `bitwise operator`"
   ]
  },
  {
   "cell_type": "code",
   "execution_count": 11,
   "id": "50c0cc67",
   "metadata": {},
   "outputs": [
    {
     "name": "stdout",
     "output_type": "stream",
     "text": [
      "After swaping a:  5\n",
      "After swaping b:  3\n"
     ]
    }
   ],
   "source": [
    "a = 3\n",
    "b = 5\n",
    "\n",
    "a = a ^ b  # 3 ^ 5 => 6\n",
    "b = a ^ b  # 6 ^ 5 => 3\n",
    "a = a ^ b  # 6 ^ 3 => 5\n",
    "\n",
    "print(\"After swaping a: \",a)\n",
    "print(\"After swaping b: \",b)"
   ]
  },
  {
   "cell_type": "markdown",
   "id": "5df82db4",
   "metadata": {},
   "source": [
    "The regular approch, using the third variable."
   ]
  },
  {
   "cell_type": "code",
   "execution_count": 13,
   "id": "dc34c7dc",
   "metadata": {},
   "outputs": [
    {
     "name": "stdout",
     "output_type": "stream",
     "text": [
      "After swaping a:  5\n",
      "After swaping b:  3\n"
     ]
    }
   ],
   "source": [
    "a = 3\n",
    "b = 5\n",
    "\n",
    "c = a\n",
    "a = b\n",
    "b = c\n",
    "\n",
    "print(\"After swaping a: \",a)\n",
    "print(\"After swaping b: \",b)"
   ]
  }
 ],
 "metadata": {
  "kernelspec": {
   "display_name": "Python 3",
   "language": "python",
   "name": "python3"
  },
  "language_info": {
   "codemirror_mode": {
    "name": "ipython",
    "version": 3
   },
   "file_extension": ".py",
   "mimetype": "text/x-python",
   "name": "python",
   "nbconvert_exporter": "python",
   "pygments_lexer": "ipython3",
   "version": "3.13.2"
  }
 },
 "nbformat": 4,
 "nbformat_minor": 5
}
