{
 "cells": [
  {
   "cell_type": "markdown",
   "id": "b308558f",
   "metadata": {},
   "source": [
    "# Python Iterator:\n",
    "* An iterator is an object that contains a countable number of values.\n",
    "* An iterator is an object that can be iterated upon, meaning that you can traverse through all the values.\n",
    "* Technically, in Python, an iterator is an object that implements the iterator protocol, which consists of the methods\n",
    "<span style=\"color: blue;\">iter()</span> and <span style=\"color: blue;\">next()</span> .\n",
    "\n"
   ]
  },
  {
   "cell_type": "markdown",
   "id": "6f177cf8",
   "metadata": {},
   "source": [
    "### Simple Iterator\n",
    "\n",
    "* `list`"
   ]
  },
  {
   "cell_type": "code",
   "execution_count": 10,
   "id": "e93b91b2",
   "metadata": {},
   "outputs": [
    {
     "name": "stdout",
     "output_type": "stream",
     "text": [
      "1\n",
      "2\n",
      "3\n",
      "4\n",
      "5\n"
     ]
    }
   ],
   "source": [
    "for l in [1,2,3,4,5]:\n",
    "    print(l)"
   ]
  },
  {
   "cell_type": "markdown",
   "id": "ded56585",
   "metadata": {},
   "source": [
    "* `String` "
   ]
  },
  {
   "cell_type": "code",
   "execution_count": 9,
   "id": "c171a933",
   "metadata": {},
   "outputs": [
    {
     "name": "stdout",
     "output_type": "stream",
     "text": [
      "M\n",
      "u\n",
      "m\n",
      "a\n",
      "m\n",
      "m\n",
      "a\n",
      "d\n",
      " \n",
      "U\n",
      "m\n",
      "a\n",
      "r\n"
     ]
    }
   ],
   "source": [
    "for s in \"Mumammad Umar\":\n",
    "    print(s)"
   ]
  },
  {
   "cell_type": "markdown",
   "id": "41abfb04",
   "metadata": {},
   "source": [
    "* `Dictonery`"
   ]
  },
  {
   "cell_type": "code",
   "execution_count": 8,
   "id": "311b6151",
   "metadata": {},
   "outputs": [
    {
     "name": "stdout",
     "output_type": "stream",
     "text": [
      "a\n",
      "b\n",
      "c\n"
     ]
    }
   ],
   "source": [
    "for d in {\"a\":1, \"b\":2, \"c\":3}:\n",
    "    print(d)"
   ]
  },
  {
   "cell_type": "markdown",
   "id": "ce959544",
   "metadata": {},
   "source": [
    "* `Sets`"
   ]
  },
  {
   "cell_type": "code",
   "execution_count": 11,
   "id": "a2ae9a57",
   "metadata": {},
   "outputs": [
    {
     "name": "stdout",
     "output_type": "stream",
     "text": [
      "40\n",
      "10\n",
      "50\n",
      "20\n",
      "30\n"
     ]
    }
   ],
   "source": [
    "for s in {10,20,30,40,50}:\n",
    "    print(s)"
   ]
  },
  {
   "cell_type": "markdown",
   "id": "f2d0cdc8",
   "metadata": {},
   "source": [
    "* `Tuples` "
   ]
  },
  {
   "cell_type": "code",
   "execution_count": 13,
   "id": "644e84ca",
   "metadata": {},
   "outputs": [
    {
     "name": "stdout",
     "output_type": "stream",
     "text": [
      "11\n",
      "22\n",
      "33\n",
      "44\n",
      "55\n"
     ]
    }
   ],
   "source": [
    "for t in (11,22,33,44,55):\n",
    "    print(t)"
   ]
  },
  {
   "cell_type": "markdown",
   "id": "c6daeb21",
   "metadata": {},
   "source": [
    "### Iterating through an Iterator\n",
    "\n",
    "* The **`iter()`** function (which in turn call the **`iter()`** method) return an iterator from them.\n",
    "* We use **`next()`** function to manually itrate through all the items of an iterator.\n",
    "* When we reach the end and there is no more data to be returned, it will rise the **`stopIteration`** exception."
   ]
  },
  {
   "cell_type": "code",
   "execution_count": 34,
   "id": "1dd363b3",
   "metadata": {},
   "outputs": [],
   "source": [
    "#defie a list\n",
    "my_list = [10,20,30,40,50,60]\n",
    "\n",
    "#get an itrator using iter()\n",
    "my_iter = iter(my_list)"
   ]
  },
  {
   "cell_type": "code",
   "execution_count": 35,
   "id": "78be66d9",
   "metadata": {},
   "outputs": [
    {
     "name": "stdout",
     "output_type": "stream",
     "text": [
      "10\n"
     ]
    }
   ],
   "source": [
    "# print(my_list)\n",
    "print(next(my_iter))"
   ]
  },
  {
   "cell_type": "code",
   "execution_count": 36,
   "id": "12cdcab4",
   "metadata": {},
   "outputs": [
    {
     "name": "stdout",
     "output_type": "stream",
     "text": [
      "20\n"
     ]
    }
   ],
   "source": [
    "print(next(my_iter))"
   ]
  },
  {
   "cell_type": "code",
   "execution_count": 39,
   "id": "f4aef11d",
   "metadata": {},
   "outputs": [
    {
     "name": "stdout",
     "output_type": "stream",
     "text": [
      "10\n",
      "20\n",
      "30\n",
      "40\n",
      "50\n",
      "60\n"
     ]
    }
   ],
   "source": [
    "# create an iter object from that iterable\n",
    "\n",
    "iter_obj = iter(my_list)\n",
    "\n",
    "# infinite loop\n",
    "while True:\n",
    "    try:\n",
    "        #get the next item\n",
    "        element = next(iter_obj)\n",
    "        print(element)\n",
    "\n",
    "    except StopIteration:\n",
    "        # if StopIteration rise, break from loop\n",
    "        break    \n"
   ]
  },
  {
   "cell_type": "markdown",
   "id": "1696760b",
   "metadata": {},
   "source": [
    "### Comperison between python `Generator` VS `Iterator`\n",
    "\n",
    "| Generator | Iterator \n",
    "|----------|----------\n",
    "| we use function | we use iter() and next() function \n",
    "| make's use of yield keyword | Itrator does't \n",
    "| save the status of the local variable every time yield pause the loop everytime | does't use the local variable, all it needs is iterable to itrate on.\n",
    "| may have number of yield statement | Does not use the yield statement |\n",
    "| No memory efficient | Memory efficient | "
   ]
  }
 ],
 "metadata": {
  "kernelspec": {
   "display_name": "Python 3",
   "language": "python",
   "name": "python3"
  },
  "language_info": {
   "codemirror_mode": {
    "name": "ipython",
    "version": 3
   },
   "file_extension": ".py",
   "mimetype": "text/x-python",
   "name": "python",
   "nbconvert_exporter": "python",
   "pygments_lexer": "ipython3",
   "version": "3.13.2"
  }
 },
 "nbformat": 4,
 "nbformat_minor": 5
}
