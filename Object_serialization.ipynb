{
 "cells": [
  {
   "cell_type": "markdown",
   "id": "6e9eb54a",
   "metadata": {},
   "source": [
    "## Object Serialization\n",
    "* `Object serialization` is the process of converting `state of an object` into `byte stream`.\n",
    "* This `byte stream` can further be stored in any `file-like` object such as a disk file or `memory stream`\n",
    "* It can also be transmitted via sockets etc.\n",
    "* `Deserialization` is the process of `reconstructing` the object from the `byte stream` .\n",
    "* Python refers to serialization and deserialization by terms pickling and unpickling respectively.\n",
    "* The 'pickle' module bundled with Python's standard library defines functions for\n",
    "    * serialization `(dump()` and `dumps())` and\n",
    "    * deserialization `(load()` and `loads())`.\n",
    "* The data format of pickle module is very Python specific . Hence, programs not written in Python may not be able to\n",
    "deserialize the encoded (pickled) data properly.\n",
    "* In fact it is not considered to be secure to unpickle data from unauthenticated source."
   ]
  },
  {
   "cell_type": "markdown",
   "id": "d8e66cf1",
   "metadata": {},
   "source": [
    "`Example: 1`\n",
    "\n",
    "serialize / pickle / dump"
   ]
  },
  {
   "cell_type": "code",
   "execution_count": 4,
   "id": "54846f82",
   "metadata": {},
   "outputs": [],
   "source": [
    "import pickle\n",
    "\n",
    "f = open(\"pickle.txt\", \"wb\")\n",
    "dct ={\"name\":\"wali\", \"age\":20, \"Gender\":\"Male\", \"Marks\":75}\n",
    "\n",
    "pickle.dump(dct, f)\n",
    "\n",
    "f.close()"
   ]
  },
  {
   "cell_type": "markdown",
   "id": "e0805cbe",
   "metadata": {},
   "source": [
    "Deserlization / Unpickle  / load"
   ]
  },
  {
   "cell_type": "code",
   "execution_count": 6,
   "id": "e7bdd996",
   "metadata": {},
   "outputs": [
    {
     "name": "stdout",
     "output_type": "stream",
     "text": [
      "{'name': 'wali', 'age': 20, 'Gender': 'Male', 'Marks': 75}\n"
     ]
    }
   ],
   "source": [
    "import pickle\n",
    "\n",
    "f = open(\"pickle.txt\", \"rb\")\n",
    "\n",
    "d = pickle.load(f)\n",
    "\n",
    "print(d)\n",
    "\n",
    "f.close()"
   ]
  },
  {
   "cell_type": "markdown",
   "id": "24e252f4",
   "metadata": {},
   "source": [
    "    Note that the `dictionary` object `doesn't retain order of insertion` of keys. Hence the k-v pairs in retrieved dictionary may not be in original order."
   ]
  },
  {
   "cell_type": "markdown",
   "id": "5caf3fe8",
   "metadata": {},
   "source": [
    "`dumps / loads`\n",
    "* The pickle module also consists of dumps() function that pickles Python data to a string representation."
   ]
  },
  {
   "cell_type": "code",
   "execution_count": 9,
   "id": "f20597a6",
   "metadata": {},
   "outputs": [
    {
     "data": {
      "text/plain": [
       "b'\\x80\\x04\\x955\\x00\\x00\\x00\\x00\\x00\\x00\\x00}\\x94(\\x8c\\x04name\\x94\\x8c\\x04Umar\\x94\\x8c\\x03age\\x94K#\\x8c\\x06Gender\\x94\\x8c\\x04Male\\x94\\x8c\\x05Marks\\x94KUu.'"
      ]
     },
     "execution_count": 9,
     "metadata": {},
     "output_type": "execute_result"
    }
   ],
   "source": [
    "from pickle import dumps\n",
    "dct = {\"name\":\"Umar\", \"age\":35,\"Gender\":\"Male\",\"Marks\":85}\n",
    "\n",
    "dctString = dumps(dct)\n",
    "\n",
    "dctString\n"
   ]
  },
  {
   "cell_type": "markdown",
   "id": "27e5dc63",
   "metadata": {},
   "source": [
    "* Use loads() function to unpickle the string and obtain original dictionary object."
   ]
  },
  {
   "cell_type": "code",
   "execution_count": 10,
   "id": "f6945167",
   "metadata": {},
   "outputs": [
    {
     "data": {
      "text/plain": [
       "{'name': 'Umar', 'age': 35, 'Gender': 'Male', 'Marks': 85}"
      ]
     },
     "execution_count": 10,
     "metadata": {},
     "output_type": "execute_result"
    }
   ],
   "source": [
    "from pickle import loads\n",
    "dct =  loads(dctString)\n",
    "\n",
    "dct"
   ]
  }
 ],
 "metadata": {
  "kernelspec": {
   "display_name": "Python 3",
   "language": "python",
   "name": "python3"
  },
  "language_info": {
   "codemirror_mode": {
    "name": "ipython",
    "version": 3
   },
   "file_extension": ".py",
   "mimetype": "text/x-python",
   "name": "python",
   "nbconvert_exporter": "python",
   "pygments_lexer": "ipython3",
   "version": "3.13.2"
  }
 },
 "nbformat": 4,
 "nbformat_minor": 5
}
