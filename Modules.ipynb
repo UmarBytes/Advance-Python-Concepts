{
 "cells": [
  {
   "cell_type": "markdown",
   "id": "6b32ea43",
   "metadata": {},
   "source": [
    "## Modules\n",
    "* A module is a Python file that has functions or classes. (Simply save the file with `.py` or `ipynb`)\n",
    "    - A Python program can use one or more modules\n",
    "    - Modules can have one or more functions\n",
    "    - Thus they help you to organize your program.\n",
    "* Modular programming refers to the process of breaking a large programming task into separate smaller, more manageable subtasks or modules.\n",
    "    - Individual modules can then be grouped together like building blocks to create a large application.\n",
    "* There are several advantages to modularizing the code in a large project.\n",
    "\n",
    "    * `Simplicity:` A module typically focuses on one relatively small portion of the problem.\n",
    "    * `Maintainability:` They enforce logical boundaries between different problem domains.\n",
    "    * `Reusability:` Functions defined in a single module can be easily reused through an appropriately defined interface by other parts of the application. This eliminates the duplicate code.\n",
    "    * `Scoping:` A module defines a separate namespace.\n",
    "\n",
    "    Functions, Modules, and Packages are all constructs in Python that promote code modularization.\n"
   ]
  },
  {
   "cell_type": "markdown",
   "id": "c72e769a",
   "metadata": {},
   "source": [
    "## Import Modules\n",
    "* You can load the Modules with the `import` keyword\n",
    "* This is the short form for operating system, so you can do the `system tasks`."
   ]
  },
  {
   "cell_type": "code",
   "execution_count": 1,
   "id": "4d0a235e",
   "metadata": {},
   "outputs": [],
   "source": [
    "import os"
   ]
  },
  {
   "cell_type": "code",
   "execution_count": 15,
   "id": "d201b5b8",
   "metadata": {},
   "outputs": [
    {
     "name": "stdout",
     "output_type": "stream",
     "text": [
      "['DirEntry', 'EX_OK', 'F_OK', 'GenericAlias', 'Mapping', 'MutableMapping', 'O_APPEND', 'O_BINARY', 'O_CREAT', 'O_EXCL', 'O_NOINHERIT', 'O_RANDOM', 'O_RDONLY', 'O_RDWR', 'O_SEQUENTIAL', 'O_SHORT_LIVED', 'O_TEMPORARY', 'O_TEXT', 'O_TRUNC', 'O_WRONLY', 'P_DETACH', 'P_NOWAIT', 'P_NOWAITO', 'P_OVERLAY', 'P_WAIT', 'PathLike', 'R_OK', 'SEEK_CUR', 'SEEK_END', 'SEEK_SET', 'TMP_MAX', 'W_OK', 'X_OK', '_AddedDllDirectory', '_Environ', '__all__', '__builtins__', '__doc__', '__file__', '__loader__', '__name__', '__package__', '__spec__', '_check_methods', '_execvpe', '_exists', '_exit', '_fspath', '_get_exports_list', '_walk_symlinks_as_files', '_wrap_close', 'abc', 'abort', 'access', 'add_dll_directory', 'altsep', 'chdir', 'chmod', 'close', 'closerange', 'cpu_count', 'curdir', 'defpath', 'device_encoding', 'devnull', 'dup', 'dup2', 'environ', 'error', 'execl', 'execle', 'execlp', 'execlpe', 'execv', 'execve', 'execvp', 'execvpe', 'extsep', 'fchmod', 'fdopen', 'fsdecode', 'fsencode', 'fspath', 'fstat', 'fsync', 'ftruncate', 'get_blocking', 'get_exec_path', 'get_handle_inheritable', 'get_inheritable', 'get_terminal_size', 'getcwd', 'getcwdb', 'getenv', 'getlogin', 'getpid', 'getppid', 'isatty', 'kill', 'lchmod', 'linesep', 'link', 'listdir', 'listdrives', 'listmounts', 'listvolumes', 'lseek', 'lstat', 'makedirs', 'mkdir', 'name', 'open', 'pardir', 'path', 'pathsep', 'pipe', 'popen', 'process_cpu_count', 'putenv', 'read', 'readlink', 'remove', 'removedirs', 'rename', 'renames', 'replace', 'rmdir', 'scandir', 'sep', 'set_blocking', 'set_handle_inheritable', 'set_inheritable', 'spawnl', 'spawnle', 'spawnv', 'spawnve', 'st', 'startfile', 'stat', 'stat_result', 'statvfs_result', 'strerror', 'supports_bytes_environ', 'supports_dir_fd', 'supports_effective_ids', 'supports_fd', 'supports_follow_symlinks', 'symlink', 'sys', 'system', 'terminal_size', 'times', 'times_result', 'truncate', 'umask', 'uname_result', 'unlink', 'unsetenv', 'urandom', 'utime', 'waitpid', 'waitstatus_to_exitcode', 'walk', 'write']\n"
     ]
    }
   ],
   "source": [
    "print(dir(os))\n",
    "#dir(os)"
   ]
  },
  {
   "cell_type": "code",
   "execution_count": 17,
   "id": "9b4b2fd8",
   "metadata": {},
   "outputs": [
    {
     "name": "stdout",
     "output_type": "stream",
     "text": [
      "u:\\Experiment\\Python Advance Course\n"
     ]
    }
   ],
   "source": [
    "#curent working directory\n",
    "print(os.getcwd())\n",
    "#os.getcwd()"
   ]
  },
  {
   "cell_type": "code",
   "execution_count": 23,
   "id": "7bdcd8df",
   "metadata": {},
   "outputs": [
    {
     "name": "stdout",
     "output_type": "stream",
     "text": [
      "['All_Topics.ipynb', 'itratoers.ipynb', 'Modules.ipynb', 'UmarBytes']\n"
     ]
    }
   ],
   "source": [
    "#lisy of dir\n",
    "print(os.listdir())\n",
    "#os.listdir()"
   ]
  },
  {
   "cell_type": "code",
   "execution_count": 24,
   "id": "b59f755e",
   "metadata": {},
   "outputs": [
    {
     "name": "stdout",
     "output_type": "stream",
     "text": [
      "12612\n"
     ]
    }
   ],
   "source": [
    "print(os.getppid())\n",
    "#os.getppid()"
   ]
  },
  {
   "cell_type": "code",
   "execution_count": 27,
   "id": "b57ffe1d",
   "metadata": {},
   "outputs": [],
   "source": [
    "#to make dir\n",
    "#print(os.mkdir(\"tempdir\"))  -Tell me in comment why this is giving us error.\n",
    "os.mkdir(\"UmarBytes\")"
   ]
  },
  {
   "cell_type": "code",
   "execution_count": 28,
   "id": "3de41cb6",
   "metadata": {},
   "outputs": [],
   "source": [
    "os.rmdir(\"UmarBytes\")"
   ]
  },
  {
   "cell_type": "markdown",
   "id": "d7604084",
   "metadata": {},
   "source": [
    "### Creating PyThon Module\n",
    " First create the file with `Calculator.py` which will have this code."
   ]
  },
  {
   "cell_type": "code",
   "execution_count": null,
   "id": "50a16838",
   "metadata": {},
   "outputs": [],
   "source": [
    "def add(a,b):\n",
    "    return a + b\n",
    "\n",
    "def sub(a,b):\n",
    "    return a - b\n",
    "\n",
    "def div(a,b):\n",
    "    return a/b\n",
    "\n",
    "def prod(a,b):\n",
    "    return a * b"
   ]
  },
  {
   "cell_type": "code",
   "execution_count": 30,
   "id": "a4c0ae54",
   "metadata": {},
   "outputs": [],
   "source": [
    "import Calculator"
   ]
  },
  {
   "cell_type": "code",
   "execution_count": null,
   "id": "f054cd3a",
   "metadata": {},
   "outputs": [],
   "source": [
    "#import the module and assign it into a new one and use it...\n",
    "import Calculator as calc"
   ]
  },
  {
   "cell_type": "code",
   "execution_count": null,
   "id": "2e00b046",
   "metadata": {},
   "outputs": [],
   "source": [
    "# we can import any function from any module\n",
    "from Calculator import add"
   ]
  },
  {
   "cell_type": "code",
   "execution_count": 35,
   "id": "50b29a21",
   "metadata": {},
   "outputs": [
    {
     "name": "stdout",
     "output_type": "stream",
     "text": [
      "Addition:  30\n",
      "Subtraction:  -10\n",
      "Division:  0.5\n",
      "Product:  200\n"
     ]
    }
   ],
   "source": [
    "a = 10\n",
    "b = 20\n",
    "\n",
    "print(\"Addition: \",calc.add(a,b))\n",
    "print(\"Subtraction: \",calc.sub(a,b))\n",
    "print(\"Division: \",calc.div(a,b))\n",
    "print(\"Product: \",calc.prod(a,b))"
   ]
  },
  {
   "cell_type": "markdown",
   "id": "446d3fd4",
   "metadata": {},
   "source": [
    "### The Module Search Path\n",
    "* take a look at what happens when python executes the statement:\n",
    "* import Calculator as calc\n",
    "* When the interpreter executes the above import statement, it searches for Calculator.py in a list of directories assembled from the following sources:\n",
    "* The directory from which the input script was run or the current\n",
    "directory if the interpreter is being run interactively\n",
    "The list of directories contained in the PYTHONPATH environment\n",
    "variable, if it is set, (The format for PYTHONPATH is OS-dependent but\n",
    "should mimic the PATH environment variable.)\n",
    "An installation-dependent list of directories configured at the time\n",
    "Python is installed\n",
    "The resulting search path is accessible in the Python variable\n",
    "vs.path ,"
   ]
  },
  {
   "cell_type": "code",
   "execution_count": 38,
   "id": "15a83645",
   "metadata": {},
   "outputs": [
    {
     "data": {
      "text/plain": [
       "['__builtins__',\n",
       " '__cached__',\n",
       " '__doc__',\n",
       " '__file__',\n",
       " '__loader__',\n",
       " '__name__',\n",
       " '__package__',\n",
       " '__spec__',\n",
       " 'add',\n",
       " 'div',\n",
       " 'prod',\n",
       " 'sub']"
      ]
     },
     "execution_count": 38,
     "metadata": {},
     "output_type": "execute_result"
    }
   ],
   "source": [
    "dir(calc)"
   ]
  },
  {
   "cell_type": "code",
   "execution_count": 40,
   "id": "a8e8d334",
   "metadata": {},
   "outputs": [
    {
     "data": {
      "text/plain": [
       "['c:\\\\Program Files\\\\Python313\\\\python313.zip',\n",
       " 'c:\\\\Program Files\\\\Python313\\\\DLLs',\n",
       " 'c:\\\\Program Files\\\\Python313\\\\Lib',\n",
       " 'c:\\\\Program Files\\\\Python313',\n",
       " '',\n",
       " 'C:\\\\Users\\\\HP\\\\AppData\\\\Roaming\\\\Python\\\\Python313\\\\site-packages',\n",
       " 'C:\\\\Users\\\\HP\\\\AppData\\\\Roaming\\\\Python\\\\Python313\\\\site-packages\\\\win32',\n",
       " 'C:\\\\Users\\\\HP\\\\AppData\\\\Roaming\\\\Python\\\\Python313\\\\site-packages\\\\win32\\\\lib',\n",
       " 'C:\\\\Users\\\\HP\\\\AppData\\\\Roaming\\\\Python\\\\Python313\\\\site-packages\\\\Pythonwin',\n",
       " 'c:\\\\Program Files\\\\Python313\\\\Lib\\\\site-packages']"
      ]
     },
     "execution_count": 40,
     "metadata": {},
     "output_type": "execute_result"
    }
   ],
   "source": [
    "import sys\n",
    "\n",
    "sys.path"
   ]
  },
  {
   "cell_type": "code",
   "execution_count": null,
   "id": "1775398c",
   "metadata": {},
   "outputs": [],
   "source": []
  }
 ],
 "metadata": {
  "kernelspec": {
   "display_name": "Python 3",
   "language": "python",
   "name": "python3"
  },
  "language_info": {
   "codemirror_mode": {
    "name": "ipython",
    "version": 3
   },
   "file_extension": ".py",
   "mimetype": "text/x-python",
   "name": "python",
   "nbconvert_exporter": "python",
   "pygments_lexer": "ipython3",
   "version": "3.13.2"
  }
 },
 "nbformat": 4,
 "nbformat_minor": 5
}
