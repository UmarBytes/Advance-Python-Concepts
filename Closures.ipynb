{
 "cells": [
  {
   "cell_type": "markdown",
   "id": "f644e7d4",
   "metadata": {},
   "source": [
    "## Python Closures\n",
    "* Before seeing whata `closure` is, we have to first understand what are `nested functions` and `non-local` variables.\n",
    "### Nested functions in Python\n",
    "* A function which is defined inside another function is known as nested function.\n",
    "* Nested functions are able to access variables of the enclosing scope."
   ]
  },
  {
   "cell_type": "code",
   "execution_count": 6,
   "id": "c2ebb2bf",
   "metadata": {},
   "outputs": [],
   "source": [
    "def outerFunction(text):\n",
    "    text = text\n",
    "\n",
    "    def innerFunction():\n",
    "        print(text)\n",
    "\n",
    "    innerFunction()    "
   ]
  },
  {
   "cell_type": "code",
   "execution_count": 7,
   "id": "e81e4f69",
   "metadata": {},
   "outputs": [
    {
     "name": "stdout",
     "output_type": "stream",
     "text": [
      "Hey! Have  a wonderful day\n"
     ]
    }
   ],
   "source": [
    "outerFunction(\"Hey! Have  a wonderful day\")"
   ]
  },
  {
   "cell_type": "markdown",
   "id": "0d4aa4b3",
   "metadata": {},
   "source": [
    "# Closures\n",
    "* A Closure is a function object that remembers values in enclosing scopes even if they are not present in memory.\n",
    "* It is a record that stores a function together with an environment: a mapping associating each free variable of the function (variables that are used locally, but defined in an enclosing scope) with the value or reference to which the name was bound when the closure was created.\n",
    "* A closure—unlike a plain function—allows the function to access those captured variables through the closure's copies of their values or references, even when the function is invoked outside their scope."
   ]
  },
  {
   "cell_type": "code",
   "execution_count": 10,
   "id": "3c9fe2b9",
   "metadata": {},
   "outputs": [
    {
     "name": "stdout",
     "output_type": "stream",
     "text": [
      "6\n",
      "-1\n"
     ]
    }
   ],
   "source": [
    "import logging\n",
    "logging.basicConfig(filename='example.log', level=logging.INFO)\n",
    "\n",
    "def logger(func):\n",
    "    def log_func(*args):\n",
    "        logging.info(\n",
    "            'Running \"{}\" with arguments {}'.format(func.__name__, args))\n",
    "        print(func(*args))\n",
    "\n",
    "    return log_func\n",
    "\n",
    "def add(x, y):\n",
    "    return x + y\n",
    "\n",
    "def sub(x, y):\n",
    "    return x - y\n",
    "\n",
    "add_logger = logger(add)\n",
    "sub_logger = logger(sub)  # Corrected this line\n",
    "\n",
    "add_logger(3, 3)\n",
    "sub_logger(4, 5)  # Corrected this line\n"
   ]
  }
 ],
 "metadata": {
  "kernelspec": {
   "display_name": "Python 3",
   "language": "python",
   "name": "python3"
  },
  "language_info": {
   "codemirror_mode": {
    "name": "ipython",
    "version": 3
   },
   "file_extension": ".py",
   "mimetype": "text/x-python",
   "name": "python",
   "nbconvert_exporter": "python",
   "pygments_lexer": "ipython3",
   "version": "3.13.2"
  }
 },
 "nbformat": 4,
 "nbformat_minor": 5
}
