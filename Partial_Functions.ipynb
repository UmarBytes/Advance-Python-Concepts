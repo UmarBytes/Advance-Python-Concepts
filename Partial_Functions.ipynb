{
 "cells": [
  {
   "cell_type": "markdown",
   "id": "f2a59815",
   "metadata": {},
   "source": [
    "## Python Partials\n",
    "* Partial functions allow us to fix a certain number of arguments of a function and generate a new function.functools.functools.partial\n",
    "* `functnols.partial` helps us achieve this\n",
    "let's say wc want to create a function that explicitly performs exponentiation . This way we can get the squares cubes and other power operations on any number."
   ]
  },
  {
   "cell_type": "markdown",
   "id": "042834bb",
   "metadata": {},
   "source": [
    "`Example 1`"
   ]
  },
  {
   "cell_type": "code",
   "execution_count": 1,
   "id": "38b8ca4a",
   "metadata": {},
   "outputs": [],
   "source": [
    "def power(base, exponent):\n",
    "    print('{} to the power {} = {}'.format(base, exponent, base ** exponent))\n",
    "    return base ** exponent"
   ]
  },
  {
   "cell_type": "code",
   "execution_count": 2,
   "id": "66c26fcd",
   "metadata": {},
   "outputs": [],
   "source": [
    "def square(base):\n",
    "    return power(base, 2)\n",
    "\n",
    "def cube(base):\n",
    "    return power(base,3)"
   ]
  },
  {
   "cell_type": "code",
   "execution_count": 4,
   "id": "52519f86",
   "metadata": {},
   "outputs": [
    {
     "name": "stdout",
     "output_type": "stream",
     "text": [
      "10.2 to the power 2 = 104.03999999999999\n"
     ]
    },
    {
     "data": {
      "text/plain": [
       "104.03999999999999"
      ]
     },
     "execution_count": 4,
     "metadata": {},
     "output_type": "execute_result"
    }
   ],
   "source": [
    "square(10.2)"
   ]
  },
  {
   "cell_type": "code",
   "execution_count": 6,
   "id": "81831aa3",
   "metadata": {},
   "outputs": [
    {
     "name": "stdout",
     "output_type": "stream",
     "text": [
      "3.5 to the power 3 = 42.875\n"
     ]
    },
    {
     "data": {
      "text/plain": [
       "42.875"
      ]
     },
     "execution_count": 6,
     "metadata": {},
     "output_type": "execute_result"
    }
   ],
   "source": [
    "cube(3.5)"
   ]
  },
  {
   "cell_type": "markdown",
   "id": "0aad0fb3",
   "metadata": {},
   "source": [
    "This works, but what if we want to create 15 or 20 variations\n",
    "of our power() function?\n",
    "What about 1000 of them?"
   ]
  },
  {
   "cell_type": "code",
   "execution_count": 7,
   "id": "4e1c47b0",
   "metadata": {},
   "outputs": [],
   "source": [
    "from functools import partial\n",
    "\n",
    "square = partial(power, exponent = 2)\n",
    "cube = partial(power, exponent = 3)"
   ]
  },
  {
   "cell_type": "code",
   "execution_count": 11,
   "id": "96e4ffb8",
   "metadata": {},
   "outputs": [
    {
     "name": "stdout",
     "output_type": "stream",
     "text": [
      "2 to the power 2 = 4\n"
     ]
    },
    {
     "data": {
      "text/plain": [
       "4"
      ]
     },
     "execution_count": 11,
     "metadata": {},
     "output_type": "execute_result"
    }
   ],
   "source": [
    "square(2)"
   ]
  },
  {
   "cell_type": "code",
   "execution_count": 10,
   "id": "8a02a029",
   "metadata": {},
   "outputs": [
    {
     "name": "stdout",
     "output_type": "stream",
     "text": [
      "2 to the power 3 = 8\n"
     ]
    },
    {
     "data": {
      "text/plain": [
       "8"
      ]
     },
     "execution_count": 10,
     "metadata": {},
     "output_type": "execute_result"
    }
   ],
   "source": [
    "cube(2)"
   ]
  }
 ],
 "metadata": {
  "kernelspec": {
   "display_name": "Python 3",
   "language": "python",
   "name": "python3"
  },
  "language_info": {
   "codemirror_mode": {
    "name": "ipython",
    "version": 3
   },
   "file_extension": ".py",
   "mimetype": "text/x-python",
   "name": "python",
   "nbconvert_exporter": "python",
   "pygments_lexer": "ipython3",
   "version": "3.13.2"
  }
 },
 "nbformat": 4,
 "nbformat_minor": 5
}
